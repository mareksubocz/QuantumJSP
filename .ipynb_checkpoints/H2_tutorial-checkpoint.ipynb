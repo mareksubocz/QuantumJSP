{
 "cells": [
  {
   "cell_type": "markdown",
   "id": "5ff58764",
   "metadata": {},
   "source": [
    "## Wprowadzenie teoretyczne\n",
    "\n",
    "**Struktura elektronowa** opisuje ruch elektronów w polu elektrostatycznym wytwarzanym przez nieruchome jądra atomowe. Termin ten obejmuje zarówno funkcje falowe elektronów jak i powiązane z nimi energie. Rozwiązanie odpowiednich równań kwantowomechanicznych należy do jednych z najbardziej wymagających zadań obliczeniowych ze względu na wykładniczo rosnącą trudność dokładnej reprezentacji splątanych stanów kwantowych. Komputer kwantowy w naturalny sposób pozwala wydajnie przygotować te złożone stany i manipulować nimi w toku obliczeń.\n",
    "\n",
    "Rozwiązanie opisanego problemu wymaga wyznaczenia rozwiązania [równania Schrödingera](https://pl.wikipedia.org/wiki/R%C3%B3wnanie_Schr%C3%B6dingera) niezależnego od czasu:\n",
    "$$  \\hat{H} |\\Psi_{n}\\rangle = E_{n} |\\Psi_{n}\\rangle   $$\n",
    "gdzie $\\hat{H}$ jest [hamiltonianem](https://pl.wikipedia.org/wiki/Operator_Hamiltona) układu.\n",
    "\n",
    "Energia stanu podstawowego, czyli tego o najniższej energii jest więc równa:\n",
    "$$  E_0 = \\frac{\\langle \\Psi_0 | \\hat{H} | \\Psi_0 \\rangle}{\\langle \\Psi_0 | \\Psi_0 \\rangle}   $$\n",
    "gdzie $\\Psi_0$ jest funkcją falową stanu podstawowego.\n",
    "\n",
    "Podejściem szczególnie przydatnym w symulowaniu modeli chemii kwantowej na komputerach kwantowych jest [druga kwantyzacja](https://en.wikipedia.org/wiki/Second_quantization). Pozwala ona na zapisanie rozpatrywanego hamiltonianu molekularnego za pomocą ważonej sumy [operatorów kreacji i anihilacji](https://pl.wikipedia.org/wiki/Operatory_kreacji_i_anihilacji) $\\hat{a}^{\\dagger}_p \\hat{a}_q$:\n",
    "\n",
    "$$ \\hat{H}=\\sum_{pq} h_{pq} \\hat{a}^{\\dagger}_p \\hat{a}_q + \\frac{1}{2} \\sum_{pqrs} g_{pqrs} \\hat{a}^{\\dagger}_p \\hat{a}^{\\dagger}_q \\hat{a}_r  \\hat{a}_s $$\n",
    "\n",
    "gdzie współczynniki $h_{pq}$ i $g_{pqrs}$ są odpowiednio całkami jedno- i dwuelektronowymi, które obliczane są przez klasyczne oprogramowanie."
   ]
  },
  {
   "cell_type": "markdown",
   "id": "211436c7",
   "metadata": {},
   "source": [
    "## Algorytm VQE"
   ]
  },
  {
   "cell_type": "markdown",
   "id": "fa4b59bf",
   "metadata": {},
   "source": [
    "VQE (Variational Quantum Eigensolver) jest algorytmem hybrydowym kwantowo-klasycznym przeznaczonym do wyznaczania energii stanu podstawowego hamiltonianu (najmniejszej wartości własniej macierzy hermitowskiej). CPU zajmuje się przygotowywaniem składników hamiltonianu, które trzeba zmierzyć oraz nadzoruje proces optymalizacji parametrów obwodu kwantowego. QPU jest natomiast odpowiedzalny za przygotowywanie odpowiednich stanów kwantowych i mierzenie energii.\n",
    "\n",
    "Działanie algorytmu ilustruje poniższy schemat. Stan kwantowy przygotowywany jest za pomocą obwodu kwantowego zbudowanego ze sparametryzowanych bramek. Na otrzymanym stanie obliczana jest energia (wartość oczekiwana) hamiltonianu. Operator ten zostaje podzielony na pojedyncze składniki, dla których pomiary i obliczanie energii odbywają się oddzielnie. Zsumowanie otrzymanych w ten sposób wartości daje w wyniku całkowitą energię układu.\n",
    "\n",
    "Energia przekazywana jest następnie do CPU, który korzystając z klasycznego algorytmu optymalizacji modyfikuje parametry obwodu kwantowego w celu wyznaczenia poszukiwanego minimum. "
   ]
  },
  {
   "cell_type": "markdown",
   "id": "4f0b509b",
   "metadata": {},
   "source": [
    "<img src=\"./images/vqe_parts.png\" alt=\"vqe\" width=\"600\"/>\n",
    "\n",
    "[A. Peruzzo et al., Nature Communications, \"A variational eigenvalue solver on a photonic quantum processor\", 2014]"
   ]
  },
  {
   "cell_type": "markdown",
   "id": "3997fae0",
   "metadata": {},
   "source": [
    "## Definiowanie problemu"
   ]
  },
  {
   "cell_type": "code",
   "execution_count": 1,
   "id": "15d1b6b0",
   "metadata": {},
   "outputs": [],
   "source": [
    "import numpy as np\n",
    "import matplotlib.pyplot as plt\n",
    "from qiskit import Aer\n",
    "from qiskit_nature.drivers import UnitsType\n",
    "from qiskit_nature.drivers.second_quantization.pyscfd import PySCFDriver\n",
    "from qiskit_nature.drivers.second_quantization import (\n",
    "    ElectronicStructureDriverType,\n",
    "    ElectronicStructureMoleculeDriver,\n",
    ")\n",
    "from qiskit_nature.problems.second_quantization import ElectronicStructureProblem\n",
    "from qiskit_nature.converters.second_quantization import QubitConverter\n",
    "from qiskit_nature.mappers.second_quantization import JordanWignerMapper, ParityMapper"
   ]
  },
  {
   "cell_type": "markdown",
   "id": "eec508d7",
   "metadata": {},
   "source": [
    "Zdefiniowanie problemu należy rozpocząć od określenia geometrii cząsteczki oraz zbioru funkcji bazowych. W tym przykładzie wykorzystana zostanie cząsteczka wodoru H<sub>2</sub> przedstawiona w minimalnym zbiorze funkcji bazowych STO-6G. Qiskit umożliwia korzystanie z kilku frameworków chemicznych, m.in. z PySCF."
   ]
  },
  {
   "cell_type": "code",
   "execution_count": 2,
   "id": "e893f0f0",
   "metadata": {},
   "outputs": [],
   "source": [
    "driver = PySCFDriver(atom='H .0 .0 .0; H .0 .0 0.74',\n",
    "                     charge=0,\n",
    "                     unit=UnitsType.ANGSTROM,\n",
    "                     basis='sto6g')\n",
    "\n",
    "problem = ElectronicStructureProblem(driver)"
   ]
  },
  {
   "cell_type": "markdown",
   "id": "6e24d17f",
   "metadata": {},
   "source": [
    "Na podstawie zdefiniowanego problemu generowana jest lista operatorów drugiej kwantyzacji. Pierwszym elementem zwracanej listy jest hamiltonian molekularny. Dodatkowo pobierana jest także liczba elektronów ze spinem $\\alpha$ (\"w górę\") i spinem $\\beta$ (\"w dół\") oraz liczba spinorbitali."
   ]
  },
  {
   "cell_type": "code",
   "execution_count": 3,
   "id": "fd26a04f",
   "metadata": {},
   "outputs": [
    {
     "name": "stdout",
     "output_type": "stream",
     "text": [
      "Fermionic Operator\n",
      "register length=4, number terms=14\n",
      "  (0.18149786219565192+0j) * ( +_0 -_1 +_2 -_3 )\n",
      "+ (-0.1814978621956519+0j) * ( +_0 -_1 -_2 +_3 )\n",
      "+ (-0.1814978621956519+0j) * ( -_0 +_1 +_2 -_3 )\n",
      "+ (0.1814978621956519+0j) * ( -_0 +_1 -_2 +_3 )\n",
      "+ ...\n",
      "Electrons (α,β): (1, 1)\n",
      "No. of spin-orbitals: 4\n"
     ]
    }
   ],
   "source": [
    "second_q_ops = problem.second_q_ops()\n",
    "\n",
    "hamiltonian = second_q_ops[0]\n",
    "print(hamiltonian)\n",
    "\n",
    "particle_number = problem.grouped_property_transformed.get_property(\"ParticleNumber\")\n",
    "\n",
    "num_particles = (particle_number.num_alpha, particle_number.num_beta)\n",
    "num_spin_orbitals = particle_number.num_spin_orbitals\n",
    "print(f'Electrons (α,β): {num_particles}\\nNo. of spin-orbitals: {num_spin_orbitals}')"
   ]
  },
  {
   "cell_type": "markdown",
   "id": "16b9f365",
   "metadata": {},
   "source": [
    "Operatory kreacji i anihilacji wymagają następnie zmapowania na operatory, które można przenieść na komputer kwantowy. Dostępne jest kilka metod mapowania: `JordanWignerMapper`, `BravyiKitaevMapper` oraz `ParityMapper`, ale najprostsza jest pierwsza z nich, ponieważ pozwala przypisać każdemu spinorbitalowi jeden kubit. W naszym przypadku obliczenia wymagają więc 4 kubitów."
   ]
  },
  {
   "cell_type": "code",
   "execution_count": 4,
   "id": "ae754552",
   "metadata": {},
   "outputs": [
    {
     "name": "stdout",
     "output_type": "stream",
     "text": [
      "Mapped Hamiltonian:\n",
      "  0.04537446554891297 * YYYY\n",
      "+ 0.04537446554891297 * XXYY\n",
      "+ 0.04537446554891297 * YYXX\n",
      "+ 0.04537446554891297 * XXXX\n",
      "- 0.8197990352359226 * IIII\n",
      "- 0.22196117683362337 * ZIII\n",
      "+ 0.17330154731934433 * IZII\n",
      "+ 0.1207215602814754 * ZZII\n",
      "- 0.22196117683362332 * IIZI\n",
      "+ 0.17480831974888106 * ZIZI\n",
      "+ 0.16609602583038838 * IZZI\n",
      "+ 0.1733015473193443 * IIIZ\n",
      "+ 0.16609602583038838 * ZIIZ\n",
      "+ 0.1686748022918722 * IZIZ\n",
      "+ 0.1207215602814754 * IIZZ\n"
     ]
    }
   ],
   "source": [
    "jw_converter = QubitConverter(JordanWignerMapper())\n",
    "\n",
    "qubit_op = jw_converter.convert(hamiltonian, num_particles=num_particles)\n",
    "print(f'Mapped Hamiltonian:\\n  {qubit_op}')"
   ]
  },
  {
   "cell_type": "code",
   "execution_count": 5,
   "id": "03bca459",
   "metadata": {},
   "outputs": [
    {
     "name": "stdout",
     "output_type": "stream",
     "text": [
      "Mapped Hamiltonian:\n",
      "  0.18149786219565187 * XX\n",
      "- 1.0612421557988732 * II\n",
      "- 0.3952627241529676 * ZI\n",
      "+ 0.3952627241529674 * IZ\n",
      "- 0.01129107037997655 * ZZ\n"
     ]
    }
   ],
   "source": [
    "parity_converter = QubitConverter(ParityMapper(),two_qubit_reduction=True)\n",
    "\n",
    "qubit_op = parity_converter.convert(hamiltonian, num_particles=num_particles)\n",
    "print(f'Mapped Hamiltonian:\\n  {qubit_op}')"
   ]
  },
  {
   "cell_type": "markdown",
   "id": "be076ec2",
   "metadata": {},
   "source": [
    "## Zadanie\n",
    "1. Zdefiniuj problem dla cząsteczki wodorku litu LiH.\n",
    "2. Podaj liczbę kubitów dla tego problemu."
   ]
  },
  {
   "cell_type": "markdown",
   "id": "3c4175b8",
   "metadata": {},
   "source": [
    "Jako początkowy stan układu posłuży tzw. stan Hartree-Focka, który powstaje w wyniku wyznaczenia przybliżonej funkcji falowej stanu podstawowego, przy założeniu, że może ona być wyrażona pojedynczym [wyznacznikiem Slatera](https://en.wikipedia.org/wiki/Slater_determinant). Zadaniem komputera kwantowego jest przygotowanie stanu kwantowego, który uwzględni brakujące oddziaływania pomiędzy elektronami.\n",
    "\n",
    "Przygotowanie stanu kwantowego odbywa się za pośrednictwem sparametryzowanego obwodu (tzw. *ansatz*), który korzysta z bramek rotacji oraz bramek dwukubitowych wprowadzających splątanie kubitów. Przewagą jaką prezentuje komputer kwantowy jest jego umiejętność zamodelowania i przechowania dokładnej postaci funkcji falowej, która to rośnie wykładniczo z rozmiarem cząsteczki.\n",
    "\n",
    "Postać sparametryzowanego obwodu jest w zasadzie dowolna, o ile osiągalna podprzestrzeń zawiera poszukiwany stan podstawowy $|\\psi_0\\rangle$. W przykładzie wykorzystany zostanie metoda UCCSD (ang. *Unitary Coupled Cluster Singles and Doubles*), która jest standardem zapewniającym wysoką dokładność obliczeń. Jej wadą jest jednocześnie niekorzystne skalowanie przy większych cząsteczkach.\n",
    "\n",
    "Za proces optymalizacji parametrów obwodu odpowiadać będzie klasyczny algorytm optymalizacji COBYLA (*Constrained Optimization By Linear Approximation*)."
   ]
  },
  {
   "cell_type": "code",
   "execution_count": 6,
   "id": "5292d0eb",
   "metadata": {},
   "outputs": [],
   "source": [
    "from qiskit.providers.aer import StatevectorSimulator\n",
    "from qiskit.algorithms.optimizers import COBYLA\n",
    "from qiskit_nature.circuit.library import HartreeFock, UCCSD\n",
    "from qiskit_nature.algorithms import GroundStateEigensolver\n",
    "from qiskit.algorithms import VQE\n",
    "\n",
    "optimizer = COBYLA(maxiter=200)\n",
    "init_state = HartreeFock(num_spin_orbitals, num_particles, parity_converter)\n",
    "\n",
    "ansatz = UCCSD(qubit_converter=parity_converter,\n",
    "              num_particles=num_particles,\n",
    "              num_spin_orbitals=num_spin_orbitals,\n",
    "              initial_state=init_state)\n",
    "\n",
    "algorithm = VQE(ansatz=ansatz, optimizer=optimizer, quantum_instance=StatevectorSimulator())"
   ]
  },
  {
   "cell_type": "code",
   "execution_count": 7,
   "id": "5001d42e",
   "metadata": {},
   "outputs": [
    {
     "name": "stdout",
     "output_type": "stream",
     "text": [
      "OrderedDict([('h', 8), ('cx', 4), ('r', 2), ('sdg', 2), ('rz', 2), ('s', 2), ('u', 1)])\n"
     ]
    }
   ],
   "source": [
    "print(ansatz.decompose().decompose().decompose().count_ops())"
   ]
  },
  {
   "cell_type": "markdown",
   "id": "116f7b57",
   "metadata": {},
   "source": [
    "Jako punkt odniesienia posłuży wynik otrzymany po diagonalizacji hamiltonianu metodą klasyczną."
   ]
  },
  {
   "cell_type": "code",
   "execution_count": 8,
   "id": "822c9fb3",
   "metadata": {},
   "outputs": [
    {
     "name": "stdout",
     "output_type": "stream",
     "text": [
      "Exact energy: -1.8610441493769674\n"
     ]
    }
   ],
   "source": [
    "from qiskit.algorithms import NumPyMinimumEigensolver\n",
    "\n",
    "numpy_solver = NumPyMinimumEigensolver()\n",
    "result_np = numpy_solver.compute_minimum_eigenvalue(qubit_op)\n",
    "print(f'Exact energy: {result_np.eigenvalue}')"
   ]
  },
  {
   "cell_type": "markdown",
   "id": "1d81f58b",
   "metadata": {},
   "source": [
    "Wynik obliczeń na symulatorze pozbawionym szumu jest bardzo zbliżony do dokładnej energii otrzymanej metodą klasyczną."
   ]
  },
  {
   "cell_type": "code",
   "execution_count": 9,
   "id": "625754bc",
   "metadata": {},
   "outputs": [
    {
     "name": "stdout",
     "output_type": "stream",
     "text": [
      "VQE energy: -1.861044144173323, error: 5.203644404261354e-09\n"
     ]
    }
   ],
   "source": [
    "result_sim = algorithm.compute_minimum_eigenvalue(qubit_op)\n",
    "print(f'VQE energy: {result_sim.optimal_value}, error: {result_sim.optimal_value-result_np.eigenvalue}')"
   ]
  },
  {
   "cell_type": "markdown",
   "id": "873d419d",
   "metadata": {},
   "source": [
    "## Profil energetyczny\n",
    "\n",
    "W kolejnym kroku wykorzystamy poznane narzędzia do wykreślenia tzw. profilu energetycznego. Pozwoli on nam sprawdzić jak odległość między atomami w cząsteczce H<sub>2</sub> wpływa na energię stanu podstawowego.\n",
    "\n",
    "Klasa `BOPESSampler` wymaga zdefiniowania problemu na nowo, tym razem z uzwględnieniem odpowiedniego stopnia swobody cząsteczki."
   ]
  },
  {
   "cell_type": "code",
   "execution_count": 10,
   "id": "cba623c0",
   "metadata": {},
   "outputs": [],
   "source": [
    "from qiskit_nature.algorithms.pes_samplers import BOPESSampler\n",
    "from functools import partial\n",
    "from qiskit_nature.drivers import Molecule\n",
    "\n",
    "geometry = problem.grouped_property_transformed.molecule.geometry\n",
    "distance = partial(Molecule.absolute_distance, atom_pair=(1, 0))\n",
    "mol = Molecule(\n",
    "    geometry=geometry,\n",
    "    degrees_of_freedom=[distance]\n",
    ")\n",
    "\n",
    "driver = ElectronicStructureMoleculeDriver(mol, basis='sto6g', driver_type=ElectronicStructureDriverType.PYSCF)\n",
    "es_problem = ElectronicStructureProblem(driver)"
   ]
  },
  {
   "cell_type": "code",
   "execution_count": 11,
   "id": "dbd3806a",
   "metadata": {},
   "outputs": [],
   "source": [
    "results_full = {}\n",
    "results = {}\n",
    "points = np.linspace(0.20, 2, 20)"
   ]
  },
  {
   "cell_type": "markdown",
   "id": "ba09d118",
   "metadata": {},
   "source": [
    "Po odpowiednim przygotowaniu problemu, obliczenia wykonywane są przy użyciu metody `sample()`. W pierwszej kolejności ponownie przeprowadzona zostanie dokładna diagonalizacja, w celu późniejszego porównania wyników."
   ]
  },
  {
   "cell_type": "code",
   "execution_count": 12,
   "id": "99669690",
   "metadata": {},
   "outputs": [],
   "source": [
    "numpy_gss = GroundStateEigensolver(parity_converter, numpy_solver)\n",
    "bs = BOPESSampler(gss=numpy_gss, bootstrap=False, num_bootstrap=None, extrapolator=None)\n",
    "res = bs.sample(es_problem, points)\n",
    "results_full[\"np\"] = res.raw_results\n",
    "results[\"points_np\"] = res.points\n",
    "results[\"energies_np\"] = res.energies"
   ]
  },
  {
   "cell_type": "code",
   "execution_count": 13,
   "id": "d70100f5",
   "metadata": {},
   "outputs": [],
   "source": [
    "sim_gss = GroundStateEigensolver(parity_converter, algorithm)\n",
    "bs = BOPESSampler(gss=sim_gss, bootstrap=False, num_bootstrap=None, extrapolator=None)\n",
    "res = bs.sample(es_problem, points)\n",
    "results_full[\"sim\"] = res.raw_results\n",
    "results[\"points_sim\"] = res.points\n",
    "results[\"energies_sim\"] = res.energies"
   ]
  },
  {
   "cell_type": "markdown",
   "id": "11594abf",
   "metadata": {},
   "source": [
    "Wykresy pokrywają się, co wskazuje na wysoką dokładność kwantowych obliczeń. Warto jednak pamiętać, że korzystaliśmy z symulatora wykonującego wszystkie operacje kwantowe bezbłędnie."
   ]
  },
  {
   "cell_type": "code",
   "execution_count": 14,
   "id": "95c997fa",
   "metadata": {},
   "outputs": [
    {
     "data": {
      "text/plain": [
       "Text(0, 0.5, 'Energy')"
      ]
     },
     "execution_count": 14,
     "metadata": {},
     "output_type": "execute_result"
    },
    {
     "data": {
      "image/png": "[encoded data removed]",
      "text/plain": [
       "<Figure size 432x288 with 1 Axes>"
      ]
     },
     "metadata": {
      "needs_background": "light"
     },
     "output_type": "display_data"
    }
   ],
   "source": [
    "fig = plt.figure()\n",
    "plt.plot(results[\"points_np\"], results[\"energies_np\"], label=\"numpy\", marker='x')\n",
    "plt.plot(results[\"points_sim\"], results[\"energies_sim\"], label=\"sim\", marker='x')\n",
    "plt.legend()\n",
    "plt.title(\"Dissociation profile\")\n",
    "plt.xlabel(\"Interatomic distance\")\n",
    "plt.ylabel(\"Energy\")"
   ]
  },
  {
   "cell_type": "code",
   "execution_count": 15,
   "id": "594f184a",
   "metadata": {},
   "outputs": [
    {
     "data": {
      "text/plain": [
       "[<matplotlib.lines.Line2D at 0x12d9dd9d0>]"
      ]
     },
     "execution_count": 15,
     "metadata": {},
     "output_type": "execute_result"
    },
    {
     "data": {
      "image/png": "[encoded data removed]",
      "text/plain": [
       "<Figure size 432x288 with 1 Axes>"
      ]
     },
     "metadata": {
      "needs_background": "light"
     },
     "output_type": "display_data"
    }
   ],
   "source": [
    "energy_errors = []\n",
    "for energy_np, energy_sim in zip(results[\"energies_np\"], results[\"energies_sim\"]):\n",
    "    energy_errors.append(energy_np-energy_sim)\n",
    "    \n",
    "fig = plt.figure()\n",
    "plt.yscale('log')\n",
    "plt.plot(results[\"points_np\"], np.abs(energy_errors))"
   ]
  },
  {
   "cell_type": "markdown",
   "id": "7ba46aa6",
   "metadata": {},
   "source": [
    "## Zadanie\n",
    "\n",
    "Qiskit umożliwia korzystanie z symulatorów odwzorowujących działanie rzeczywistego komputera kwantowego, włącznie z jego wieloma niedoskonałościami."
   ]
  },
  {
   "cell_type": "code",
   "execution_count": 16,
   "id": "d8d15508",
   "metadata": {},
   "outputs": [],
   "source": [
    "from qiskit.test.mock import FakeManila\n",
    "from qiskit.providers.aer import AerSimulator, QasmSimulator\n",
    "from qiskit.algorithms.optimizers import SPSA\n",
    "\n",
    "device_backend = FakeManila()\n",
    "\n",
    "sim_vigo = QasmSimulator.from_backend(device_backend)\n",
    "optimizer = SPSA(maxiter=200)\n",
    "\n",
    "algorithm_noisy = VQE(ansatz=ansatz, optimizer=optimizer, quantum_instance=sim_vigo)\n"
   ]
  },
  {
   "cell_type": "code",
   "execution_count": 17,
   "id": "3d69f960",
   "metadata": {},
   "outputs": [],
   "source": [
    "# from qiskit_nature.mappers.second_quantization import ParityMapper\n",
    "\n",
    "# parity = QubitConverter(ParityMapper())\n",
    "# qubit_op = parity.convert(hamiltonian, num_particles=num_particles)\n",
    "\n",
    "result_sim = algorithm_noisy.compute_minimum_eigenvalue(qubit_op)"
   ]
  },
  {
   "cell_type": "code",
   "execution_count": 18,
   "id": "c5c46903",
   "metadata": {},
   "outputs": [
    {
     "name": "stdout",
     "output_type": "stream",
     "text": [
      "VQE energy: -1.5531046916020657, error: 0.3079394577749017\n"
     ]
    }
   ],
   "source": [
    "print(f'VQE energy: {result_sim.optimal_value}, error: {result_sim.optimal_value-result_np.eigenvalue}')"
   ]
  },
  {
   "cell_type": "markdown",
   "id": "b392baae",
   "metadata": {},
   "source": [
    "Dodatkowe źródła\n",
    "\n",
    "- <https://en.wikipedia.org/wiki/Electronic_structure>\n",
    "- <https://github.com/qiskit-community/qiskit-application-modules-demo-sessions/blob/main/qiskit-nature/Qiskit_Nature_YouTube_Tutorial.ipynb>\n",
    "- <https://docs.microsoft.com/en-us/azure/quantum/user-guide/libraries/chemistry/#quantum-chemistry-concepts>\n",
    "- <https://github.com/DavitKhach/quantum-algorithms-tutorials/blob/master/variational_quantum_eigensolver.ipynb>"
   ]
  }
 ],
 "metadata": {
  "interpreter": {
   "hash": "3aabbe6ba41bfb67e69df41a5d9afb1b32e6a9c0f77bc0b09c3cf2ce9f55e7d4"
  },
  "kernelspec": {
   "display_name": "Python 3 (ipykernel)",
   "language": "python",
   "name": "python3"
  },
  "language_info": {
   "codemirror_mode": {
    "name": "ipython",
    "version": 3
   },
   "file_extension": ".py",
   "mimetype": "text/x-python",
   "name": "python",
   "nbconvert_exporter": "python",
   "pygments_lexer": "ipython3",
   "version": "3.8.6"
  },
  "widgets": {
   "application/vnd.jupyter.widget-state+json": {
    "state": {},
    "version_major": 2,
    "version_minor": 0
   }
  }
 },
 "nbformat": 4,
 "nbformat_minor": 5
}
