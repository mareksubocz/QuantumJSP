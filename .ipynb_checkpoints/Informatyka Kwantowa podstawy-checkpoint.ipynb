{
 "cells": [
  {
   "cell_type": "markdown",
   "id": "85a7dcca",
   "metadata": {},
   "source": [
    "# Informatyka kwantowa - notebook wprowadzający"
   ]
  },
  {
   "cell_type": "markdown",
   "id": "521257a2",
   "metadata": {},
   "source": [
    "Informatyka kwantowa jest nauką na pograniczu informatyki i fizyki kwantowej, która wykorzystuje zjawiska kwantowe takie jak superpozycja i splątanie występujące między cząstkami do efektywnego prowadzenia obliczeń. "
   ]
  },
  {
   "cell_type": "code",
   "execution_count": 1,
   "id": "9bbca578",
   "metadata": {},
   "outputs": [],
   "source": [
    "from qiskit import QuantumCircuit, assemble, Aer, transpile\n",
    "from qiskit.visualization import plot_histogram, plot_bloch_vector, plot_state_city\n",
    "from math import sqrt, pi"
   ]
  },
  {
   "cell_type": "markdown",
   "id": "satisfied-grade",
   "metadata": {},
   "source": [
    "# Kubit\n",
    "\n",
    "Zamiast klasycznych bitów mogących przyjąć jedna z dwóch wartości 0 lub 1, do obliczeń kwantowych używane są kubity. Kubity mogą przyjąć jeden z 2 stanów bazowych $|0\\rangle$ i $|1\\rangle$, jednak co wyróżnia te jednostki informacji, to fakt iż mogą one znajdować się również w dowolnej superpozycji tych stanów.\n",
    "\n",
    "Stany bazowe $|0\\rangle$ i $|1\\rangle$ można przedstawić jako dwuwymiarowe wektory w przestrzeni dwuwymiarowej. Zwyczajowo oznacza się je jako:\n",
    "\n",
    "$|0\\rangle = \\begin{bmatrix} 1 \\\\ 0 \\end{bmatrix} \\, \\, \\, \\, |1\\rangle =\\begin{bmatrix} 0 \\\\ 1 \\end{bmatrix}$\n",
    "\n",
    "i są to ortonormalne wektory bazowe przestrzeni Hilberta.\n",
    "\n",
    "Pojedynczy kubit $|\\psi\\rangle$ może być złożeniem stanów bazowych $|0\\rangle$ i $|1\\rangle$:\n",
    "\n",
    "$|\\psi\\rangle = \\alpha|0\\rangle + \\beta|1\\rangle$\n",
    "\n",
    "gdzie $\\alpha$ i $\\beta$ są zespolonymu amplitudami poszczególnych stanów. Obowiązuje je warunek normalizacji:\n",
    "\n",
    "$|\\alpha|^2 + |\\beta|^2 = 1$,\n",
    "\n",
    "przez co mogą przyjąć interpretację probabilistyczną zmierzenia poszczególnych stanów na wyjściu obwodu dla skończonej liczby pomiarów."
   ]
  },
  {
   "cell_type": "markdown",
   "id": "ac32eeea",
   "metadata": {},
   "source": [
    "# Bramkowy model przetwarzania\n",
    "\n",
    "W najpopularniejszym - bramkowym modelu przetwarzania kwantowego, kubity przetwarza się przy pomocy zapisu podobnego do klasycznych elektronicznych bramek logicznych. Stan każdego kubitu inicjalizowany jest najczęściej wartością $|0\\rangle$, a następnie przechodzi przez szereg bramek kwantowych, które które oddziałują na jego przez wykonanie określonych operacji. Na koniec wykonywany jest pomiar wartości kubitu, który na tym etapie przyjmuje wartość $0$ lub $1$. Operacja pomiaru sprawia jednak, że wszystkie własności kwantowe obwodu zostają utracone."
   ]
  },
  {
   "cell_type": "markdown",
   "id": "2f920e0d",
   "metadata": {},
   "source": [
    "# Bramki kwantowe\n",
    "\n",
    "Każda bramka kwantowa może oddziaływać na 1 lub więcej kubitów. Bramki 1-kubitowe są zapisywane w postaci macierzy o rozmiarze $2 \\times 2$ i po przemnożeniu przez dwuwymiarowy wektor symbolizujący stan kubitu wejściowego zwracają stan wyjściowy kubitu (również w postaci dwuelementowego wektora).\n",
    "\n",
    "Do najprostszych i najpopularniejszych bramek kwantowych należy bramka $X$ zapisana jako macierz:\n",
    "\n",
    "$X = \\begin{bmatrix} 0 & 1 \\\\ 1 & 0 \\end{bmatrix}$\n",
    "\n",
    "Jest odpowiednikiem klasycznej bramki NOT. Jej przykładowe użycie na kubicie w stanie $|\\psi\\rangle = \\alpha|0\\rangle + \\beta|1\\rangle$ obrazują obliczenia:\n",
    "\n",
    "$X|\\psi\\rangle = \\begin{bmatrix} 0 & 1 \\\\ 1 & 0 \\end{bmatrix}\\begin{bmatrix} \\alpha \\\\ \\beta \\end{bmatrix} = \\begin{bmatrix} \\beta \\\\ \\alpha \\end{bmatrix}$"
   ]
  },
  {
   "cell_type": "markdown",
   "id": "d3d59411",
   "metadata": {},
   "source": [
    "W poniższej komórce z kodem znajduje się krótki program definiujący obwód kwantowy. Na 1 kubicie zainicjalizowanym (domyślnie) stanem $|0\\rangle$ stosuje operację $X$, a następnie odczytuje wynik."
   ]
  },
  {
   "cell_type": "code",
   "execution_count": 13,
   "id": "93aa2fbe",
   "metadata": {},
   "outputs": [
    {
     "data": {
      "image/png": "[encoded data removed]",
      "text/plain": [
       "<Figure size 297.479x144.48 with 1 Axes>"
      ]
     },
     "execution_count": 13,
     "metadata": {},
     "output_type": "execute_result"
    }
   ],
   "source": [
    "# definicja obwodu kwantowego z 1 kubitem\n",
    "qc = QuantumCircuit(1)\n",
    "# dodanie bramki kwantowej X do 0-wego kubitu\n",
    "qc.x(0)\n",
    "# dodanie operacji pomiaru na wszystkich (w tym przypadku 1 kubicie)\n",
    "qc.measure_all()\n",
    "# polecenie rysujące schemat obwodu kwantowego\n",
    "qc.draw(output='mpl')"
   ]
  },
  {
   "cell_type": "markdown",
   "id": "c6471e53",
   "metadata": {},
   "source": [
    "Kolejnym etapem jest odczyt wyniku obwodu kwantowego. W tym przypadku obwód będzie zwracał ten sam wynik w sposób deterministyczny. Dlatego można sprawdzić wynik pojedynczego uruchomienia obwodu. W tym przypadku jednokrotnie została zmierzona wartość 1, co jest spodziewanym wynikiem po zastosowaniu operacji NOT na stanie wejściowym $|0\\rangle$."
   ]
  },
  {
   "cell_type": "code",
   "execution_count": 3,
   "id": "first-newman",
   "metadata": {},
   "outputs": [
    {
     "name": "stdout",
     "output_type": "stream",
     "text": [
      "{'1': 1}\n"
     ]
    }
   ],
   "source": [
    "backend = Aer.get_backend('statevector_simulator')\n",
    "job = backend.run(qc)\n",
    "result = job.result()\n",
    "counts = result.get_counts()\n",
    "print(counts)"
   ]
  },
  {
   "cell_type": "markdown",
   "id": "b66ab82c",
   "metadata": {},
   "source": [
    "Ponieważ zazwyczaj stany mają charakter probabilistyczny, często do wizualizacji wyników używa się histogramu rozkładu zmiezronych wartości. Dla tego przypadku będzie to histogram z pojedynczą wartością i prawdopodobieństwem odczytu 100%."
   ]
  },
  {
   "cell_type": "code",
   "execution_count": 4,
   "id": "ce551aa8",
   "metadata": {},
   "outputs": [
    {
     "data": {
      "image/png": "[encoded data removed]",
      "text/plain": [
       "<Figure size 504x360 with 1 Axes>"
      ]
     },
     "execution_count": 4,
     "metadata": {},
     "output_type": "execute_result"
    }
   ],
   "source": [
    "plot_histogram(counts)"
   ]
  },
  {
   "cell_type": "markdown",
   "id": "trying-fancy",
   "metadata": {},
   "source": [
    "# Superpozycja \n",
    "Superpozycja to stan, w którym kubit znajduje się w kilku stanach jednocześnie. Jedną z bramek, która może utworzyć stan superpozycji jest bramka Hadamarda. Jej zapis macierzowy ma następującą postać:\n",
    "\n",
    "$H = \\tfrac{1}{\\sqrt{2}}\\begin{bmatrix} 1 & 1 \\\\ 1 & -1 \\end{bmatrix}$\n",
    "\n",
    "Wartość $\\tfrac{1}{\\sqrt{2}}$ ma charakter normalizujący amplitudy do wartości 1. Zauważmy, że bramka Hadamarda działając na kazdy z 2 stanów bazowych doprowadza do sytuacji, w której prawdopodobieństwa zmierzenia stanów $0$ i $1$ są identyczne i równe 50%.\n",
    "\n",
    "$H|0\\rangle = \\tfrac{1}{\\sqrt{2}} \\begin{bmatrix} 1 & 1 \\\\ 1 & -1 \\end{bmatrix} \\begin{bmatrix} 1 \\\\ 0 \\end{bmatrix} = \\tfrac{1}{\\sqrt{2}} \\begin{bmatrix} 1 \\\\ 1 \\end{bmatrix} = \\tfrac{1}{\\sqrt{2}} |0\\rangle + \\tfrac{1}{\\sqrt{2}} |1\\rangle =|+\\rangle$\n",
    "\n",
    "$\\tfrac{1}{\\sqrt{2}} ^ 2 = \\tfrac{1}{2}, \\, \\, \\, \\,\\tfrac{1}{\\sqrt{2}} ^ 2 = \\tfrac{1}{2}$\n",
    "\n",
    "$H|1\\rangle = \\tfrac{1}{\\sqrt{2}} \\begin{bmatrix} 1 & 1 \\\\ 1 & -1 \\end{bmatrix} \\begin{bmatrix} 0 \\\\ 1 \\end{bmatrix} = \\tfrac{1}{\\sqrt{2}} \\begin{bmatrix} 1 \\\\ -1 \\end{bmatrix} = \\tfrac{1}{\\sqrt{2}} |0\\rangle - \\tfrac{1}{\\sqrt{2}} |1\\rangle = |-\\rangle$\n",
    "\n",
    "$\\tfrac{1}{\\sqrt{2}} ^ 2 = \\tfrac{1}{2}, \\, \\, \\, \\, \\left(-\\tfrac{1}{\\sqrt{2}}\\right) ^ 2 = \\tfrac{1}{2}$\n",
    "\n",
    "\n",
    "Poniżej przedstawiono przykładowy obwód z bramką Hadamarda, który będzie na wyjściu mierzył 0 i 1 z równym prawdopodobieństwem równym 0.5."
   ]
  },
  {
   "cell_type": "code",
   "execution_count": 5,
   "id": "greenhouse-police",
   "metadata": {},
   "outputs": [
    {
     "data": {
      "image/png": "[encoded data removed]",
      "text/plain": [
       "<Figure size 297.479x144.48 with 1 Axes>"
      ]
     },
     "execution_count": 5,
     "metadata": {},
     "output_type": "execute_result"
    }
   ],
   "source": [
    "# definicja obwodu jednokubitowego\n",
    "qc = QuantumCircuit(1)\n",
    "# bramka Hadamarda na 0 kubicie (stan |+>)\n",
    "qc.h(0)\n",
    "# pomiar wszystkich kubitów\n",
    "qc.measure_all()\n",
    "# polecenie rysujące schemat obwodu kwantowego\n",
    "qc.draw(output='mpl')"
   ]
  },
  {
   "cell_type": "markdown",
   "id": "42263292",
   "metadata": {},
   "source": [
    "W praktyce, ponieważ kod jest uruchamiany na symulatorze komputera kwantowego rzeczywisty rozkład może różnić się od teoretycznego. Ważnym parametrem jest w tym przypadku liczba uruchomień obwodu - parametr 'shots'. Zwiększanie go powoduje zwiększenie dokładności wyników, ale wydłuża obliczenia, zwłaszcza dla bardziej skomplikowanych obwodów."
   ]
  },
  {
   "cell_type": "code",
   "execution_count": 6,
   "id": "ab578231",
   "metadata": {},
   "outputs": [
    {
     "data": {
      "image/png": "[encoded data removed]",
      "text/plain": [
       "<Figure size 504x360 with 1 Axes>"
      ]
     },
     "execution_count": 6,
     "metadata": {},
     "output_type": "execute_result"
    }
   ],
   "source": [
    "#wybór symulatora z biblioteki Aer\n",
    "backend = Aer.get_backend('statevector_simulator')\n",
    "#zdefiniowanie zadania i liczby uruchomień obwodu\n",
    "job = backend.run(qc, shots=1024)\n",
    "#wyciągnięcie wybiku i wyrysowanie histogramu\n",
    "result = job.result()\n",
    "counts = result.get_counts()\n",
    "plot_histogram(counts)"
   ]
  },
  {
   "cell_type": "markdown",
   "id": "89f704d8",
   "metadata": {},
   "source": [
    "Dla porównania ten sam obwód uruchomiony dla większej liczby próbek. W tym przypadku rozkład powinien być bardziej zbliżony do 50/50."
   ]
  },
  {
   "cell_type": "code",
   "execution_count": 7,
   "id": "01c0d22e",
   "metadata": {},
   "outputs": [
    {
     "data": {
      "image/png": "[encoded data removed]",
      "text/plain": [
       "<Figure size 504x360 with 1 Axes>"
      ]
     },
     "execution_count": 7,
     "metadata": {},
     "output_type": "execute_result"
    }
   ],
   "source": [
    "backend = Aer.get_backend('statevector_simulator')\n",
    "job = backend.run(qc, shots=8096)\n",
    "result = job.result()\n",
    "counts = result.get_counts()\n",
    "plot_histogram(counts)"
   ]
  },
  {
   "cell_type": "markdown",
   "id": "1518652f",
   "metadata": {},
   "source": [
    "### Zad. 1\n",
    "Skonstruuj obwód kwantowy dający na wyjściu stan $|-\\rangle$. Efektem pomiaru obwodu powinien być rozkład prawdopodobieństwa 50/50.\n",
    "Podpowiedź:\n",
    "Stan $|-\\rangle$ można osiągnąć aplikując bramkę Hadamarda do stanu $|1\\rangle$."
   ]
  },
  {
   "cell_type": "code",
   "execution_count": 8,
   "id": "2f394aa5",
   "metadata": {},
   "outputs": [],
   "source": [
    "### miejsce na rozwiązanie\n",
    "\n",
    "# definicja obwodu jednokubitowego\n",
    "\n",
    "# bramki kwantowe generujące stan |->\n",
    "\n",
    "\n",
    "# pomiar wszystkich kubitów\n",
    "\n",
    "# polecenie rysujące schemat obwodu kwantowego\n",
    "\n",
    "# polecenie rysujące schemat obwodu kwantowego\n",
    "# qc.draw(output='mpl')\n",
    "\n",
    "### wybór symulatora z biblioteki Aer\n",
    "# backend = Aer.get_backend('statevector_simulator')\n",
    "### zdefiniowanie zadania i liczby uruchomień obwodu\n",
    "# job = ...\n",
    "### wyciągnięcie wyniku i wyrysowanie histogramu\n",
    "# result = ...\n",
    "# counts = ...\n",
    "# plot_histogram(...)"
   ]
  },
  {
   "cell_type": "markdown",
   "id": "5b5a4f44",
   "metadata": {},
   "source": [
    "### Zad. 2\n",
    "Prosty układ demonstrujący działanie superpozycji może składać się ze źródła fotonów, dwóch płytek półprzepuszczalnych oraz dwóch zwierciadeł (jak na animacji). Pojedynczy foton po przejściu przez pierwszą płytkę półprzepuszczalną znajduje się jednocześnie w górnej i dolnej ścieżce. Następnie, po dojściu do drugiej płytki interferuje sam ze sobą, przez co następuje wygaszenie na drodze do detektora A i wzmocnienie na drodze do detektora B. Ponieważ na ścieżce do detektora A występuje interferencja destruktywna, to prawdopodobieństwo odczytu fotonu w detektorze B wynosi 100%."
   ]
  },
  {
   "cell_type": "markdown",
   "id": "0b575074",
   "metadata": {},
   "source": [
    "<video controls src=\"./animacja_1_003.mp4\" />"
   ]
  },
  {
   "cell_type": "markdown",
   "id": "3692adf2",
   "metadata": {},
   "source": [
    "Korzystając z bramki Hadamarda zaprojektuj układ kwantowy odpowiadający tej sytuacji i także zintepretuj wyniki. Foton symbolizuje kubit, a płytki półprzepuszczalne działają jak bramki Hadamarda tworząc superpozycję stanów z amplitudami 0.5."
   ]
  },
  {
   "cell_type": "code",
   "execution_count": 9,
   "id": "2c02a5bf",
   "metadata": {},
   "outputs": [],
   "source": [
    "### Miejsce na rozwiązanie\n",
    "\n",
    "# definicja obwodu \n",
    "\n",
    "# pierwsza płytka półprzepuszczalna\n",
    "\n",
    "# druga płytka półprzepuszczalna\n",
    "\n",
    "# pomiar wszystkich kubitów\n",
    "\n",
    "# polecenie rysujące schemat obwodu kwantowego (opcjonalne)\n",
    "# qc.draw(output='mpl')\n",
    "\n",
    "#wybór symulatora z biblioteki Aer\n",
    "# backend = Aer.get_backend('statevector_simulator')\n",
    "# zdefiniowanie zadania i liczby uruchomień obwodu\n",
    "# job = ...\n",
    "### wyciągnięcie wyniku i wyrysowanie histogramu\n",
    "# result = ...\n",
    "# counts = ...\n",
    "# plot_histogram(...)"
   ]
  },
  {
   "cell_type": "markdown",
   "id": "competent-quebec",
   "metadata": {},
   "source": [
    "# Splątanie kwantowe\n",
    "\n",
    "Splątanie kwantowe jest ważnym zjawiskiem, pozwalającym uzyskać przewagę nad klasycznymi obliczeniami. Polega na powiązaniu ze sobą wartości dwóch kubitów, tak że pomiar wawrtości jednego z nich powoduje automatyczne przypisanie wartości drugiemu (niezależnie od prawdopodobieństwa pojedyńczego pomiaru kubitu).\n",
    "\n",
    "Splątanie wiąże ze sobą 2 lub więcej kubity, przez dowolną bramkę wielokubitową. Najprostszym przykładem takiej bramki może być kontrolowana bramka X (zapisywana często jako CNOT), w której jeden kubit kontroluje czy do drugiego zostanie wykonana operacja negacji.\n",
    "\n",
    "### $\\text{CNOT} = \\begin{bmatrix} 1 & 0 & 0 & 0 \\\\\n",
    "                              0 & 1 & 0 & 0 \\\\\n",
    "                              0 & 0 & 0 & 1 \\\\\n",
    "                              0 & 0 & 1 & 0 \\\\\n",
    "              \\end{bmatrix}$\n",
    "              \n",
    "W prostym obwodzie zaprezentowanym poniżej bramka CNOT splątuje ze sobą 2 kubity. Na wyjściu są mogą sie pojawić tylko 2 możliwe  stany: $|00\\rangle$ lub $|11\\rangle$, ponieważ mimo probabilistycznego charakteru pomiaru stan pierwszego kubitu determinuje stan drugiego."
   ]
  },
  {
   "cell_type": "code",
   "execution_count": 10,
   "id": "expected-violence",
   "metadata": {},
   "outputs": [
    {
     "data": {
      "image/png": "[encoded data removed]",
      "text/plain": [
       "<Figure size 417.879x204.68 with 1 Axes>"
      ]
     },
     "execution_count": 10,
     "metadata": {},
     "output_type": "execute_result"
    }
   ],
   "source": [
    "# definicja obwodu z 2 kubitami\n",
    "qc = QuantumCircuit(2)\n",
    "# bramka Hadamarda tworząca superpozycję na zerowym kubicie.\n",
    "qc.h(0)\n",
    "# bramka CNOT tworząca splątanie pomiędzy zerowym a pierwszym kubitem.\n",
    "qc.cx(0, 1)\n",
    "# pomiar wszystkich kubitów\n",
    "qc.measure_all()\n",
    "# polecenie rysujące schemat obwodu kwantowego\n",
    "qc.draw(output='mpl')"
   ]
  },
  {
   "cell_type": "code",
   "execution_count": 11,
   "id": "checked-basis",
   "metadata": {},
   "outputs": [
    {
     "data": {
      "image/png": "[encoded data removed]",
      "text/plain": [
       "<Figure size 504x360 with 1 Axes>"
      ]
     },
     "execution_count": 11,
     "metadata": {},
     "output_type": "execute_result"
    }
   ],
   "source": [
    "backend = Aer.get_backend('statevector_simulator')\n",
    "job = backend.run(qc, shots=1024)\n",
    "result = job.result()\n",
    "counts = result.get_counts()\n",
    "plot_histogram(counts)"
   ]
  },
  {
   "cell_type": "markdown",
   "id": "1ea92ed7",
   "metadata": {},
   "source": [
    "### Zad. 3\n",
    "Do układu z poprzedniego zadania na dolnej ścieżce dołożono bombę. Jeżeli foton poleci dolną ścieżką, bomba wybuchnie, co będzie aktem pomiaru. Jak teraz rozłożą się prawdopodobieństwa na detektorach A, B oraz wybuchu bomby? Skonstruuj i uruchom odpowiadający obwód kwantowy. Zinterpretuj wyniki."
   ]
  },
  {
   "cell_type": "markdown",
   "id": "1b6747d3",
   "metadata": {},
   "source": [
    "<video controls src=\"./animacja_2_007.mp4\" />"
   ]
  },
  {
   "cell_type": "code",
   "execution_count": 12,
   "id": "c47a4d64",
   "metadata": {},
   "outputs": [],
   "source": [
    "### Miejsce na rozwiązanie\n",
    "# definicja obwodu \n",
    "\n",
    "# pierwsza płytka półprzepuszczalna\n",
    "\n",
    "# splątanie fotonu i bomby\n",
    "\n",
    "# druga płytka półprzepuszczalna\n",
    "\n",
    "# pomiar wszystkich kubitów\n",
    "\n",
    "# polecenie rysujące schemat obwodu kwantowego\n",
    "# qc.draw(output='mpl')\n",
    "\n",
    "#wybór symulatora z biblioteki Aer\n",
    "backend = Aer.get_backend('statevector_simulator')\n",
    "# zdefiniowanie zadania i liczby uruchomień obwodu\n",
    "# job = ...\n",
    "### wyciągnięcie wyniku i wyrysowanie histogramu\n",
    "# result = ...\n",
    "# counts = ...\n",
    "# plot_histogram(...)"
   ]
  },
  {
   "cell_type": "markdown",
   "id": "1b8cf3e6",
   "metadata": {},
   "source": [
    "Podpowiedź: Bomba może być traktowana jako kubit, a akt jej wybuchu stanowi osobny pomiar stanu kwantowego całego układu. Prawdopodobieństwo wybuchu bomby powinno teraz wynosić 50%, a prawdopodobieństwo pomiaru fotonu w jednym z detektorów A lub B, w sytuacji gdy bomba nie wybuchła będzie teraz wynosić po 25%."
   ]
  },
  {
   "cell_type": "markdown",
   "id": "326405dd",
   "metadata": {},
   "source": [
    "### Bardziej złożone obwody i bramki"
   ]
  },
  {
   "cell_type": "markdown",
   "id": "eb3add9f",
   "metadata": {},
   "source": [
    "Możliwe jest tworzenie bardziej złożonych, wielokubitowych bramek, również takich, przyjmująych zewnętrzne parametry. Bardziej wyczerpująca lista bramek znajduje się m.in. na stronie: https://en.wikipedia.org/wiki/Quantum_logic_gate lub jest opisana w podręczniku do nauki biblioteki qiskit: https://qiskit.org/textbook/preface.html, oraz w dokumentacji: https://qiskit.org/documentation/ Część z nich zostanie wykorzystana w kolejnych tutorialach."
   ]
  },
  {
   "cell_type": "markdown",
   "id": "southwest-jordan",
   "metadata": {},
   "source": [
    "# Algorytm Deutscha\n",
    "\n",
    "Dobrym algorytmem, który obrazuje praktyczne działanie tych elementów jest algorytm Deutscha, który jest jednym z pierwszych algorytmów demonstrujących kwantową przewagę komputera kwantowego nad klasycznym, dla pewnego specyficznego problemu. Algorytm, korzystając z własności splątania i superpozycji, pozwala jednokrotnym odczytem z obwodu kwantowego pokazać, czy pewna funkcja binarna jest stała czy zbalansowana, podczas gdy klasycznie potrzebne byłyby minimalnie 2 odczyty.\n",
    "\n",
    "Więcej o algorytmie, a także o jego wielokubitowej wersji (Deustch-Jozsa) poczytać można np. na: https://pl.wikipedia.org/wiki/Algorytm_Deutscha-Jozsy) i zobaczyć kod w tutorialach qiskita: https://qiskit.org/textbook/ch-algorithms/deutsch-jozsa.html"
   ]
  },
  {
   "cell_type": "markdown",
   "id": "f6ff0a0e",
   "metadata": {},
   "source": [
    "# Zad. 4*\n",
    "Zaimplementuj algorytm Deutscha dla 2 kubitów."
   ]
  },
  {
   "cell_type": "code",
   "execution_count": null,
   "id": "de7d7c07",
   "metadata": {},
   "outputs": [],
   "source": []
  }
 ],
 "metadata": {
  "kernelspec": {
   "display_name": "Python 3 (ipykernel)",
   "language": "python",
   "name": "python3"
  },
  "language_info": {
   "codemirror_mode": {
    "name": "ipython",
    "version": 3
   },
   "file_extension": ".py",
   "mimetype": "text/x-python",
   "name": "python",
   "nbconvert_exporter": "python",
   "pygments_lexer": "ipython3",
   "version": "3.8.6"
  }
 },
 "nbformat": 4,
 "nbformat_minor": 5
}
