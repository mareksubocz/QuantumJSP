{
 "cells": [
  {
   "cell_type": "code",
   "execution_count": 1,
   "id": "f54249aa-8ff9-4351-99c2-3a3d8f95dbcd",
   "metadata": {},
   "outputs": [
    {
     "name": "stdout",
     "output_type": "stream",
     "text": [
      "number of jobs: 6\n",
      "number of machines: 6\n",
      "max time value: 60\n"
     ]
    },
    {
     "ename": "ValueError",
     "evalue": "no embedding found",
     "output_type": "error",
     "traceback": [
      "\u001b[0;31m---------------------------------------------------------------------------\u001b[0m",
      "\u001b[0;31mValueError\u001b[0m                                Traceback (most recent call last)",
      "Cell \u001b[0;32mIn[1], line 2\u001b[0m\n\u001b[1;32m      1\u001b[0m \u001b[38;5;28;01mfrom\u001b[39;00m \u001b[38;5;21;01mdemo_single_problem\u001b[39;00m \u001b[38;5;28;01mimport\u001b[39;00m main\n\u001b[0;32m----> 2\u001b[0m \u001b[43mmain\u001b[49m\u001b[43m(\u001b[49m\u001b[38;5;124;43m'\u001b[39;49m\u001b[38;5;124;43mdata/ft06.txt\u001b[39;49m\u001b[38;5;124;43m'\u001b[39;49m\u001b[43m,\u001b[49m\u001b[43m \u001b[49m\u001b[43mmode\u001b[49m\u001b[38;5;241;43m=\u001b[39;49m\u001b[38;5;124;43m'\u001b[39;49m\u001b[38;5;124;43mpyqubo\u001b[39;49m\u001b[38;5;124;43m'\u001b[39;49m\u001b[43m)\u001b[49m\n",
      "File \u001b[0;32m~/it/quantumjsp/demo_single_problem.py:16\u001b[0m, in \u001b[0;36mmain\u001b[0;34m(filepath, mode)\u001b[0m\n\u001b[1;32m     14\u001b[0m instances \u001b[38;5;241m=\u001b[39m defaultdict(\u001b[38;5;28mint\u001b[39m)\n\u001b[1;32m     15\u001b[0m \u001b[38;5;66;03m# for i in tqdm(range(100)):\u001b[39;00m\n\u001b[0;32m---> 16\u001b[0m solution \u001b[38;5;241m=\u001b[39m \u001b[43minstance\u001b[49m\u001b[38;5;241;43m.\u001b[39;49m\u001b[43msolve\u001b[49m\u001b[43m(\u001b[49m\u001b[43mmode\u001b[49m\u001b[38;5;241;43m=\u001b[39;49m\u001b[43mmode\u001b[49m\u001b[43m,\u001b[49m\n\u001b[1;32m     17\u001b[0m \u001b[43m                          \u001b[49m\u001b[43mpostprocessing\u001b[49m\u001b[38;5;241;43m=\u001b[39;49m\u001b[38;5;28;43;01mFalse\u001b[39;49;00m\u001b[43m,\u001b[49m\n\u001b[1;32m     18\u001b[0m \u001b[43m                          \u001b[49m\u001b[43mstatistics\u001b[49m\u001b[38;5;241;43m=\u001b[39;49m\u001b[38;5;28;43;01mTrue\u001b[39;49;00m\u001b[43m,\u001b[49m\n\u001b[1;32m     19\u001b[0m \u001b[43m                          \u001b[49m\u001b[43mis_squashed\u001b[49m\u001b[38;5;241;43m=\u001b[39;49m\u001b[38;5;28;43;01mFalse\u001b[39;49;00m\u001b[43m,\u001b[49m\n\u001b[1;32m     20\u001b[0m \u001b[43m                          \u001b[49m\u001b[43mheuristic\u001b[49m\u001b[38;5;241;43m=\u001b[39;49m\u001b[38;5;28;43;01mFalse\u001b[39;49;00m\u001b[43m,\u001b[49m\n\u001b[1;32m     21\u001b[0m \u001b[43m                          \u001b[49m\u001b[43moptimal\u001b[49m\u001b[38;5;241;43m=\u001b[39;49m\u001b[38;5;241;43m7\u001b[39;49m\u001b[43m,\u001b[49m\n\u001b[1;32m     22\u001b[0m \u001b[43m                          \u001b[49m\u001b[43mnum_reads\u001b[49m\u001b[38;5;241;43m=\u001b[39;49m\u001b[38;5;241;43m1000\u001b[39;49m\u001b[43m)\u001b[49m\n\u001b[1;32m     23\u001b[0m \u001b[38;5;66;03m# if solution.is_valid():\u001b[39;00m\n\u001b[1;32m     24\u001b[0m \u001b[38;5;66;03m#   results.append(solution.get_result())\u001b[39;00m\n\u001b[1;32m     25\u001b[0m \u001b[38;5;66;03m#   instances[solution.get_result()+'_'+str(solution)] += 1\u001b[39;00m\n\u001b[1;32m     26\u001b[0m \u001b[38;5;66;03m# else:\u001b[39;00m\n\u001b[1;32m     27\u001b[0m \u001b[38;5;66;03m#   results.append(-1)\u001b[39;00m\n\u001b[1;32m     28\u001b[0m \u001b[38;5;28mprint\u001b[39m(\u001b[38;5;124m'\u001b[39m\u001b[38;5;124msolution:\u001b[39m\u001b[38;5;130;01m\\n\u001b[39;00m\u001b[38;5;124m'\u001b[39m, solution)\n",
      "File \u001b[0;32m~/it/quantumjsp/instance.py:303\u001b[0m, in \u001b[0;36mInstance.solve\u001b[0;34m(self, mode, num_reads, postprocessing, statistics, optimal, heuristic, is_squashed, is_cut_out, window_size, window_start)\u001b[0m\n\u001b[1;32m    301\u001b[0m     sampleset \u001b[38;5;241m=\u001b[39m sampler\u001b[38;5;241m.\u001b[39msample_dqm(bqm, label\u001b[38;5;241m=\u001b[39m\u001b[38;5;124mf\u001b[39m\u001b[38;5;124m'\u001b[39m\u001b[38;5;132;01m{\u001b[39;00mmode\u001b[38;5;132;01m}\u001b[39;00m\u001b[38;5;124m JSSP\u001b[39m\u001b[38;5;124m'\u001b[39m)\n\u001b[1;32m    302\u001b[0m \u001b[38;5;28;01melse\u001b[39;00m:\n\u001b[0;32m--> 303\u001b[0m     sampleset \u001b[38;5;241m=\u001b[39m \u001b[43msampler\u001b[49m\u001b[38;5;241;43m.\u001b[39;49m\u001b[43msample\u001b[49m\u001b[43m(\u001b[49m\u001b[43mbqm\u001b[49m\u001b[43m,\u001b[49m\u001b[43m \u001b[49m\u001b[43mnum_reads\u001b[49m\u001b[38;5;241;43m=\u001b[39;49m\u001b[43mnum_reads\u001b[49m\u001b[43m,\u001b[49m\n\u001b[1;32m    304\u001b[0m \u001b[43m                               \u001b[49m\u001b[43mreturn_embedding\u001b[49m\u001b[38;5;241;43m=\u001b[39;49m\u001b[38;5;28;43;01mTrue\u001b[39;49;00m\u001b[43m,\u001b[49m\u001b[43m \u001b[49m\u001b[43mlabel\u001b[49m\u001b[38;5;241;43m=\u001b[39;49m\u001b[38;5;124;43mf\u001b[39;49m\u001b[38;5;124;43m'\u001b[39;49m\u001b[38;5;132;43;01m{\u001b[39;49;00m\u001b[43mmode\u001b[49m\u001b[38;5;132;43;01m}\u001b[39;49;00m\u001b[38;5;124;43m JSSP\u001b[39;49m\u001b[38;5;124;43m'\u001b[39;49m\u001b[43m)\u001b[49m\n\u001b[1;32m    306\u001b[0m solution \u001b[38;5;241m=\u001b[39m \u001b[38;5;28mself\u001b[39m\u001b[38;5;241m.\u001b[39m__extract_solution_from_sample(\n\u001b[1;32m    307\u001b[0m     sampleset\u001b[38;5;241m.\u001b[39mfirst\u001b[38;5;241m.\u001b[39msample, sampleset\u001b[38;5;241m.\u001b[39mvartype\n\u001b[1;32m    308\u001b[0m )\n\u001b[1;32m    311\u001b[0m \u001b[38;5;28;01mif\u001b[39;00m statistics:\n",
      "File \u001b[0;32m~/.pyenv/versions/3.10.8/envs/dwave/lib/python3.10/site-packages/dwave/system/composites/embedding.py:239\u001b[0m, in \u001b[0;36mEmbeddingComposite.sample\u001b[0;34m(self, bqm, chain_strength, chain_break_method, chain_break_fraction, embedding_parameters, return_embedding, warnings, **parameters)\u001b[0m\n\u001b[1;32m    235\u001b[0m embedding \u001b[38;5;241m=\u001b[39m \u001b[38;5;28mself\u001b[39m\u001b[38;5;241m.\u001b[39mfind_embedding(source_edgelist, target_edgelist,\n\u001b[1;32m    236\u001b[0m                                 \u001b[38;5;241m*\u001b[39m\u001b[38;5;241m*\u001b[39membedding_parameters)\n\u001b[1;32m    238\u001b[0m \u001b[38;5;28;01mif\u001b[39;00m bqm \u001b[38;5;129;01mand\u001b[39;00m \u001b[38;5;129;01mnot\u001b[39;00m embedding:\n\u001b[0;32m--> 239\u001b[0m     \u001b[38;5;28;01mraise\u001b[39;00m \u001b[38;5;167;01mValueError\u001b[39;00m(\u001b[38;5;124m\"\u001b[39m\u001b[38;5;124mno embedding found\u001b[39m\u001b[38;5;124m\"\u001b[39m)\n\u001b[1;32m    241\u001b[0m \u001b[38;5;28;01mif\u001b[39;00m \u001b[38;5;129;01mnot\u001b[39;00m \u001b[38;5;28mhasattr\u001b[39m(embedding, \u001b[38;5;124m'\u001b[39m\u001b[38;5;124membed_bqm\u001b[39m\u001b[38;5;124m'\u001b[39m):\n\u001b[1;32m    242\u001b[0m     embedding \u001b[38;5;241m=\u001b[39m EmbeddedStructure(target_edgelist, embedding)\n",
      "\u001b[0;31mValueError\u001b[0m: no embedding found"
     ]
    }
   ],
   "source": [
    "from demo_single_problem import main\n",
    "main('data/ft06.txt', mode='pyqubo')"
   ]
  },
  {
   "cell_type": "code",
   "execution_count": null,
   "id": "c6a04563-4841-4892-99ba-e366d5e24283",
   "metadata": {},
   "outputs": [],
   "source": [
    "# !pip install tqdm"
   ]
  }
 ],
 "metadata": {
  "kernelspec": {
   "display_name": "Python 3 (ipykernel)",
   "language": "python",
   "name": "python3"
  },
  "language_info": {
   "codemirror_mode": {
    "name": "ipython",
    "version": 3
   },
   "file_extension": ".py",
   "mimetype": "text/x-python",
   "name": "python",
   "nbconvert_exporter": "python",
   "pygments_lexer": "ipython3",
   "version": "3.10.8"
  }
 },
 "nbformat": 4,
 "nbformat_minor": 5
}
